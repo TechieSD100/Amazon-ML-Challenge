{
 "cells": [
  {
   "cell_type": "markdown",
   "metadata": {},
   "source": [
    "### Formatting the output\n",
    "Formatting the predictions as per the requirements (\"x unit\"). * Ensure all predictions pass through the `sanity.py` script for validation."
   ]
  },
  {
   "cell_type": "code",
   "execution_count": null,
   "metadata": {},
   "outputs": [],
   "source": [
    "import pandas as pd\n",
    "import numpy as np\n",
    "import tensorflow as tf\n",
    "import joblib\n",
    "\n",
    "# Load the model\n",
    "model = tf.keras.models.load_model('model.h5')\n",
    "\n",
    "# Load features\n",
    "features = np.load('features.npy')\n",
    "\n",
    "# Load the label encoder\n",
    "label_encoder = joblib.load('label_encoder.pkl')\n",
    "\n",
    "# Generate predictions\n",
    "predictions = model.predict(features)\n",
    "\n",
    "# Get the predicted class indices\n",
    "predicted_class_indices = np.argmax(predictions, axis=1)\n",
    "\n",
    "# Decode the labels\n",
    "decoded_labels = label_encoder.inverse_transform(predicted_class_indices)\n",
    "\n",
    "# Generate confidence scores\n",
    "confidence_scores = np.max(predictions, axis=1)\n",
    "\n",
    "# Format the predictions\n",
    "formatted_predictions = [f\"{confidence:.16f} {unit}\" for confidence, unit in zip(confidence_scores, decoded_labels)]\n",
    "\n",
    "# Create a DataFrame with an index and formatted predictions\n",
    "predictions_df = pd.DataFrame({\n",
    "    'index': range(len(formatted_predictions)),  # Ensure index matches test file\n",
    "    'prediction': formatted_predictions\n",
    "})\n",
    "\n",
    "# Save to CSV\n",
    "predictions_df.to_csv('sample_test_out.csv', index=False)\n",
    "\n",
    "print(\"Predictions have been formatted and saved to 'formatted_predictions.csv'.\")\n"
   ]
  },
  {
   "cell_type": "markdown",
   "metadata": {},
   "source": [
    "### Validate with `sanity.py`"
   ]
  },
  {
   "cell_type": "code",
   "execution_count": 2,
   "metadata": {},
   "outputs": [
    {
     "ename": "SyntaxError",
     "evalue": "invalid syntax (4056620172.py, line 1)",
     "output_type": "error",
     "traceback": [
      "\u001b[1;36m  Cell \u001b[1;32mIn[2], line 1\u001b[1;36m\u001b[0m\n\u001b[1;33m    python sanity.py --test_filename sample_test.csv --output_filename sample_test_out.csv\u001b[0m\n\u001b[1;37m           ^\u001b[0m\n\u001b[1;31mSyntaxError\u001b[0m\u001b[1;31m:\u001b[0m invalid syntax\n"
     ]
    }
   ],
   "source": [
    "python sanity.py --test_filename sample_test.csv --output_filename sample_test_out.csv"
   ]
  }
 ],
 "metadata": {
  "kernelspec": {
   "display_name": "Python 3",
   "language": "python",
   "name": "python3"
  },
  "language_info": {
   "codemirror_mode": {
    "name": "ipython",
    "version": 3
   },
   "file_extension": ".py",
   "mimetype": "text/x-python",
   "name": "python",
   "nbconvert_exporter": "python",
   "pygments_lexer": "ipython3",
   "version": "3.8.10"
  }
 },
 "nbformat": 4,
 "nbformat_minor": 2
}
