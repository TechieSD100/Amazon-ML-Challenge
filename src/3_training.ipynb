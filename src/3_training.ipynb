{
 "cells": [
  {
   "cell_type": "markdown",
   "metadata": {},
   "source": [
    "### Import necessary dependencies."
   ]
  },
  {
   "cell_type": "code",
   "execution_count": 4,
   "metadata": {},
   "outputs": [],
   "source": [
    "import numpy as np\n",
    "import pandas as pd\n",
    "from sklearn.model_selection import train_test_split\n",
    "from tensorflow.keras.models import Sequential\n",
    "from tensorflow.keras.layers import Dense, Dropout\n",
    "from tensorflow.keras.callbacks import EarlyStopping\n",
    "import os"
   ]
  },
  {
   "cell_type": "markdown",
   "metadata": {},
   "source": [
    "### Step 1: Load the extracted features and labels"
   ]
  },
  {
   "cell_type": "code",
   "execution_count": 5,
   "metadata": {},
   "outputs": [],
   "source": [
    "features = np.load('features.npy')"
   ]
  },
  {
   "cell_type": "code",
   "execution_count": 21,
   "metadata": {},
   "outputs": [],
   "source": [
    "# Assuming your labels are stored in a CSV file, load them\n",
    "DATASET_FOLDER = '../dataset/'\n",
    "train = pd.read_csv(os.path.join(DATASET_FOLDER, 'train.csv'))\n",
    "\n",
    "# Assuming 'label' is the name of the column containing labels\n",
    "labels = train['entity_value'].values[:900]  # Use the first 900 labels"
   ]
  },
  {
   "cell_type": "markdown",
   "metadata": {},
   "source": [
    "### Step 2: Split the dataset into training and validation sets"
   ]
  },
  {
   "cell_type": "code",
   "execution_count": 22,
   "metadata": {},
   "outputs": [],
   "source": [
    "X_train, X_val, y_train, y_val = train_test_split(features, labels, test_size=0.2, random_state=42)"
   ]
  },
  {
   "cell_type": "markdown",
   "metadata": {},
   "source": [
    "### Step 3: Create a simple neural network model"
   ]
  },
  {
   "cell_type": "code",
   "execution_count": 23,
   "metadata": {},
   "outputs": [],
   "source": [
    "model = Sequential()"
   ]
  },
  {
   "cell_type": "markdown",
   "metadata": {},
   "source": [
    "Adding dense layers:"
   ]
  },
  {
   "cell_type": "code",
   "execution_count": 24,
   "metadata": {},
   "outputs": [],
   "source": [
    "model.add(Dense(256, activation='relu', input_shape=(X_train.shape[1],)))\n",
    "model.add(Dropout(0.5))  # Dropout to prevent overfitting\n",
    "model.add(Dense(128, activation='relu'))\n",
    "model.add(Dropout(0.5))\n",
    "model.add(Dense(64, activation='relu'))\n",
    "model.add(Dense(1, activation='sigmoid'))  # Assuming it's a binary classification"
   ]
  },
  {
   "cell_type": "markdown",
   "metadata": {},
   "source": [
    "### Step 4: Compile the model"
   ]
  },
  {
   "cell_type": "code",
   "execution_count": 25,
   "metadata": {},
   "outputs": [],
   "source": [
    "model.compile(optimizer='adam', loss='binary_crossentropy', metrics=['accuracy'])"
   ]
  },
  {
   "cell_type": "markdown",
   "metadata": {},
   "source": [
    "### Step 5: Train the model with early stopping to prevent overfitting"
   ]
  },
  {
   "cell_type": "code",
   "execution_count": 34,
   "metadata": {},
   "outputs": [
    {
     "name": "stdout",
     "output_type": "stream",
     "text": [
      "Epoch 1/10\n",
      "23/23 [==============================] - 9s 363ms/step - loss: -6649438797824.0000 - accuracy: 0.0014 - val_loss: -7739739734016.0000 - val_accuracy: 0.0056\n",
      "Epoch 2/10\n",
      "23/23 [==============================] - 8s 358ms/step - loss: -8174080884736.0000 - accuracy: 0.0014 - val_loss: -9470148083712.0000 - val_accuracy: 0.0056\n",
      "Epoch 3/10\n",
      "23/23 [==============================] - 8s 353ms/step - loss: -10026341105664.0000 - accuracy: 0.0014 - val_loss: -11474107891712.0000 - val_accuracy: 0.0056\n",
      "Epoch 4/10\n",
      "23/23 [==============================] - 9s 375ms/step - loss: -12053802647552.0000 - accuracy: 0.0014 - val_loss: -13782860431360.0000 - val_accuracy: 0.0056\n",
      "Epoch 5/10\n",
      "23/23 [==============================] - 8s 356ms/step - loss: -14269806542848.0000 - accuracy: 0.0014 - val_loss: -16344027234304.0000 - val_accuracy: 0.0056\n",
      "Epoch 6/10\n",
      "23/23 [==============================] - 8s 345ms/step - loss: -17063127023616.0000 - accuracy: 0.0014 - val_loss: -19311297036288.0000 - val_accuracy: 0.0056\n",
      "Epoch 7/10\n",
      "23/23 [==============================] - 8s 346ms/step - loss: -20083636174848.0000 - accuracy: 0.0014 - val_loss: -22600570896384.0000 - val_accuracy: 0.0056\n",
      "Epoch 8/10\n",
      "23/23 [==============================] - 7s 327ms/step - loss: -23388739338240.0000 - accuracy: 0.0014 - val_loss: -26294009987072.0000 - val_accuracy: 0.0056\n",
      "Epoch 9/10\n",
      "23/23 [==============================] - 8s 331ms/step - loss: -27003652669440.0000 - accuracy: 0.0014 - val_loss: -30419185565696.0000 - val_accuracy: 0.0056\n",
      "Epoch 10/10\n",
      "23/23 [==============================] - 7s 323ms/step - loss: -31244446334976.0000 - accuracy: 0.0014 - val_loss: -34971129479168.0000 - val_accuracy: 0.0056\n",
      "6/6 [==============================] - 0s 31ms/step - loss: -34971129479168.0000 - accuracy: 0.0056\n",
      "Validation Loss: -34971129479168.0\n",
      "Validation Accuracy: 0.0055555556900799274\n"
     ]
    }
   ],
   "source": [
    "# early_stopping = EarlyStopping(monitor='val_loss', patience=3, restore_best_weights=True)\n",
    "\n",
    "# history = model.fit(X_train, y_train, validation_data=(X_val, y_val), epochs=10, batch_size=32, callbacks=[early_stopping])\n",
    "\n",
    "# from sklearn.preprocessing import LabelEncoder\n",
    "\n",
    "# # Assuming labels are currently strings, convert them to numeric format\n",
    "# label_encoder = LabelEncoder()\n",
    "# y_train_encoded = label_encoder.fit_transform(y_train)\n",
    "# y_val_encoded = label_encoder.transform(y_val)\n",
    "\n",
    "# early_stopping = EarlyStopping(monitor='val_loss', patience=3, restore_best_weights=True)\n",
    "\n",
    "# history = model.fit(\n",
    "#     X_train, \n",
    "#     y_train_encoded, \n",
    "#     validation_data=(X_val, y_val_encoded), \n",
    "#     epochs=10, \n",
    "#     batch_size=32, \n",
    "#     callbacks=[early_stopping]\n",
    "# )\n",
    "\n",
    "\n",
    "from sklearn.preprocessing import LabelEncoder\n",
    "\n",
    "# Combine training and validation labels to fit the encoder\n",
    "all_labels = np.concatenate([y_train, y_val])\n",
    "\n",
    "label_encoder = LabelEncoder()\n",
    "label_encoder.fit(all_labels)\n",
    "\n",
    "# Encode the labels\n",
    "y_train_encoded = label_encoder.transform(y_train)\n",
    "y_val_encoded = label_encoder.transform(y_val)\n",
    "\n",
    "# Train the model with early stopping\n",
    "early_stopping = EarlyStopping(monitor='val_loss', patience=3, restore_best_weights=True)\n",
    "\n",
    "history = model.fit(\n",
    "    X_train, \n",
    "    y_train_encoded, \n",
    "    validation_data=(X_val, y_val_encoded), \n",
    "    epochs=10, \n",
    "    batch_size=32, \n",
    "    callbacks=[early_stopping]\n",
    ")\n",
    "\n",
    "# Evaluate the model\n",
    "val_loss, val_acc = model.evaluate(X_val, y_val_encoded)\n",
    "print(f\"Validation Loss: {val_loss}\")\n",
    "print(f\"Validation Accuracy: {val_acc}\")\n"
   ]
  }
 ],
 "metadata": {
  "kernelspec": {
   "display_name": "Python 3",
   "language": "python",
   "name": "python3"
  },
  "language_info": {
   "codemirror_mode": {
    "name": "ipython",
    "version": 3
   },
   "file_extension": ".py",
   "mimetype": "text/x-python",
   "name": "python",
   "nbconvert_exporter": "python",
   "pygments_lexer": "ipython3",
   "version": "3.8.10"
  }
 },
 "nbformat": 4,
 "nbformat_minor": 2
}
