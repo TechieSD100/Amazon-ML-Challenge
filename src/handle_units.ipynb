{
 "cells": [
  {
   "cell_type": "markdown",
   "metadata": {},
   "source": [
    "### Step 1: Load the constants from constants.py\n",
    "Import dependencies as well."
   ]
  },
  {
   "cell_type": "code",
   "execution_count": 9,
   "metadata": {},
   "outputs": [],
   "source": [
    "from constants import entity_unit_map\n",
    "import numpy as np\n",
    "import pandas as pd\n",
    "import os"
   ]
  },
  {
   "cell_type": "markdown",
   "metadata": {},
   "source": [
    "### Step 2: Defining a function that maps each entity_name to its corresponding units.\n",
    "This function will apply the appropriate unit to each predicted value."
   ]
  },
  {
   "cell_type": "code",
   "execution_count": 10,
   "metadata": {},
   "outputs": [],
   "source": [
    "def get_unit(entity_name):\n",
    "    \"\"\"Return the possible units for a given entity name.\"\"\"\n",
    "    return entity_unit_map.get(entity_name, set())"
   ]
  },
  {
   "cell_type": "markdown",
   "metadata": {},
   "source": [
    "### Step 3: Format Predictions with Units\n",
    "Assuming that you have a dictionary or list of predictions where each prediction is associated with an entity name, format these predictions with the appropriate units."
   ]
  },
  {
   "cell_type": "code",
   "execution_count": 11,
   "metadata": {},
   "outputs": [],
   "source": [
    "def apply_units(entity_name, value):\n",
    "    \"\"\"Apply the correct unit based on the entity name.\"\"\"\n",
    "    units = get_unit(entity_name)\n",
    "    if not units:\n",
    "        return f\"{value}\"  # Return value without units if no units are defined for the entity\n",
    "    \n",
    "    # For simplicity, let's assume the first unit in the set is chosen\n",
    "    unit = next(iter(units))\n",
    "    return f\"{value} {unit}\"\n"
   ]
  },
  {
   "cell_type": "markdown",
   "metadata": {},
   "source": [
    "### Step 4: Generate Predictions with Units\n",
    "Generating predictions and using the apply_units function to format them."
   ]
  },
  {
   "cell_type": "code",
   "execution_count": 13,
   "metadata": {},
   "outputs": [],
   "source": [
    "DATASET_FOLDER = '../dataset/'\n",
    "\n",
    "# Load your test dataset\n",
    "test_data = pd.read_csv(os.path.join(DATASET_FOLDER, 'test.csv'))\n",
    "entity_names = test_data['entity_name'].values\n",
    "\n",
    "# Assuming you have generated predictions\n",
    "# predictions should be a list or array of numeric values\n",
    "predictions = np.random.rand(len(entity_names))  # Example predictions\n",
    "\n",
    "# Apply units to the predictions\n",
    "formatted_predictions = [apply_units(entity, pred) for entity, pred in zip(entity_names, predictions)]\n",
    "\n",
    "# Create a DataFrame for the output\n",
    "output_df = pd.DataFrame({\n",
    "    'entity_name': entity_names,\n",
    "    'prediction': formatted_predictions\n",
    "})\n",
    "\n",
    "# Save the formatted output to a CSV file\n",
    "output_df.to_csv('formatted_predictions.csv', index=False)"
   ]
  }
 ],
 "metadata": {
  "kernelspec": {
   "display_name": "Python 3",
   "language": "python",
   "name": "python3"
  },
  "language_info": {
   "codemirror_mode": {
    "name": "ipython",
    "version": 3
   },
   "file_extension": ".py",
   "mimetype": "text/x-python",
   "name": "python",
   "nbconvert_exporter": "python",
   "pygments_lexer": "ipython3",
   "version": "3.8.10"
  }
 },
 "nbformat": 4,
 "nbformat_minor": 2
}
